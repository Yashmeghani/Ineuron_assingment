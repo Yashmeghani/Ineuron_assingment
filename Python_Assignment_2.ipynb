{
  "cells": [
    {
      "cell_type": "markdown",
      "id": "08c66ea5",
      "metadata": {
        "id": "08c66ea5"
      },
      "source": [
        "## Programming Assignment_2\n",
        "-------------"
      ]
    },
    {
      "cell_type": "markdown",
      "id": "4e50cf42",
      "metadata": {
        "id": "4e50cf42"
      },
      "source": [
        "1. Write a Python program to convert kilometers to miles?\n"
      ]
    },
    {
      "cell_type": "code",
      "source": [
        "#factor for km to mile\n",
        "factor = 1.60934\n",
        "\n",
        "km = 100\n",
        "mile = km / factor\n",
        "\n",
        "\n",
        "print(mile)"
      ],
      "metadata": {
        "id": "sHfO3QbeexGi",
        "outputId": "b7212406-1708-46c2-c16a-4fd4e4b0676c",
        "colab": {
          "base_uri": "https://localhost:8080/"
        }
      },
      "id": "sHfO3QbeexGi",
      "execution_count": 2,
      "outputs": [
        {
          "output_type": "stream",
          "name": "stdout",
          "text": [
            "62.137273664980675\n"
          ]
        }
      ]
    },
    {
      "cell_type": "markdown",
      "id": "0df4e6bf",
      "metadata": {
        "id": "0df4e6bf"
      },
      "source": [
        "### 2.Write a Python program to convert Celsius to Fahrenheit?"
      ]
    },
    {
      "cell_type": "code",
      "source": [
        "c = 97\n",
        "\n",
        "#formula for fahrenheit to celsius : (celcius*9/5)  + 32\n",
        "f= (c * 9/5) + 32\n",
        "\n",
        "print(f)"
      ],
      "metadata": {
        "id": "u4NaBgaEfcLq",
        "outputId": "86d5d679-4550-4b24-bb7e-f6a57e269473",
        "colab": {
          "base_uri": "https://localhost:8080/"
        }
      },
      "id": "u4NaBgaEfcLq",
      "execution_count": 3,
      "outputs": [
        {
          "output_type": "stream",
          "name": "stdout",
          "text": [
            "206.6\n"
          ]
        }
      ]
    },
    {
      "cell_type": "markdown",
      "source": [],
      "metadata": {
        "id": "Q-iUx4CQoppc"
      },
      "id": "Q-iUx4CQoppc"
    },
    {
      "cell_type": "markdown",
      "id": "46129b8e",
      "metadata": {
        "id": "46129b8e"
      },
      "source": [
        "3. Write a Python program to display calendar?\n"
      ]
    },
    {
      "cell_type": "code",
      "source": [
        "import calendar\n",
        "\n",
        "month = 12\n",
        "year = 2022\n",
        "\n",
        "#calender module consist of function month for displaying calender of that month\n",
        "print(calendar.month(year, month))\n"
      ],
      "metadata": {
        "id": "lLt_wdo1gH-k",
        "outputId": "cd086fee-8774-4dfc-8bdc-91943b68b9a6",
        "colab": {
          "base_uri": "https://localhost:8080/"
        }
      },
      "id": "lLt_wdo1gH-k",
      "execution_count": 5,
      "outputs": [
        {
          "output_type": "stream",
          "name": "stdout",
          "text": [
            "   December 2022\n",
            "Mo Tu We Th Fr Sa Su\n",
            "          1  2  3  4\n",
            " 5  6  7  8  9 10 11\n",
            "12 13 14 15 16 17 18\n",
            "19 20 21 22 23 24 25\n",
            "26 27 28 29 30 31\n",
            "\n"
          ]
        }
      ]
    },
    {
      "cell_type": "markdown",
      "id": "db2bf0f7",
      "metadata": {
        "id": "db2bf0f7"
      },
      "source": [
        "### 4. Write a Python program to solve quadratic equation?"
      ]
    },
    {
      "cell_type": "code",
      "source": [
        "import cmath\n",
        "\n",
        "a = 10\n",
        "b = 20\n",
        "c = 5\n",
        "\n",
        "#Calculate the discriminant\n",
        "d = b**2 - 4*a*c\n",
        "\n",
        "#roots of the quadratic equation\n",
        "r1 = (-b + cmath.sqrt(d)) / (2*a)\n",
        "r2 = (-b - cmath.sqrt(d)) / (2*a)\n",
        "\n",
        "print(r1)\n",
        "print(r2)\n"
      ],
      "metadata": {
        "id": "hOQ2auRshvcg",
        "outputId": "cdab2e51-eab1-4b4e-b3cf-a0904909ec5a",
        "colab": {
          "base_uri": "https://localhost:8080/"
        }
      },
      "id": "hOQ2auRshvcg",
      "execution_count": 6,
      "outputs": [
        {
          "output_type": "stream",
          "name": "stdout",
          "text": [
            "(-0.2928932188134524+0j)\n",
            "(-1.7071067811865475+0j)\n"
          ]
        }
      ]
    },
    {
      "cell_type": "markdown",
      "id": "f70f74c9",
      "metadata": {
        "id": "f70f74c9"
      },
      "source": [
        "5. Write a Python program to swap two variables without temp variable?"
      ]
    },
    {
      "cell_type": "code",
      "source": [
        "a = 10\n",
        "b = 5\n",
        "\n",
        "a = a + b\n",
        "b = a - b\n",
        "a = a - b\n",
        "\n",
        "print(a)\n",
        "print(b)\n"
      ],
      "metadata": {
        "id": "aJ9mx-hMiNwa",
        "outputId": "85a7be24-cca8-4486-81d6-a0d603820115",
        "colab": {
          "base_uri": "https://localhost:8080/"
        }
      },
      "id": "aJ9mx-hMiNwa",
      "execution_count": 8,
      "outputs": [
        {
          "output_type": "stream",
          "name": "stdout",
          "text": [
            "5\n",
            "10\n"
          ]
        }
      ]
    }
  ],
  "metadata": {
    "kernelspec": {
      "display_name": "Python 3 (ipykernel)",
      "language": "python",
      "name": "python3"
    },
    "language_info": {
      "codemirror_mode": {
        "name": "ipython",
        "version": 3
      },
      "file_extension": ".py",
      "mimetype": "text/x-python",
      "name": "python",
      "nbconvert_exporter": "python",
      "pygments_lexer": "ipython3",
      "version": "3.9.12"
    },
    "colab": {
      "provenance": []
    }
  },
  "nbformat": 4,
  "nbformat_minor": 5
}