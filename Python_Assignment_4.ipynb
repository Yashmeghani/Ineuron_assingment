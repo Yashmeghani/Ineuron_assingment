{
  "cells": [
    {
      "cell_type": "markdown",
      "id": "20cb4340",
      "metadata": {
        "id": "20cb4340"
      },
      "source": [
        "## Programming Assignment_4\n",
        "----------------"
      ]
    },
    {
      "cell_type": "markdown",
      "id": "4fdb6695",
      "metadata": {
        "id": "4fdb6695"
      },
      "source": [
        "### 1. Write a Python Program to Find the Factorial of a Number?"
      ]
    },
    {
      "cell_type": "code",
      "source": [
        "num = int(input(\"Enter number :\"))\n",
        "\n",
        "fact = 1\n",
        "\n",
        "while(num > 0):\n",
        "    fact = fact * num\n",
        "    num = num -1\n",
        "\n",
        "print(\"Factorial of the number is:\" , fact)"
      ],
      "metadata": {
        "id": "hOeAnUwS8YPP",
        "outputId": "8f76081a-6376-456d-cc70-2bfe2a808294",
        "colab": {
          "base_uri": "https://localhost:8080/"
        }
      },
      "id": "hOeAnUwS8YPP",
      "execution_count": 7,
      "outputs": [
        {
          "output_type": "stream",
          "name": "stdout",
          "text": [
            "Enter number :5\n",
            "Factorial of the number is: 120\n"
          ]
        }
      ]
    },
    {
      "cell_type": "markdown",
      "id": "e6beef62",
      "metadata": {
        "id": "e6beef62"
      },
      "source": [
        "\n",
        "### 2. Write a Python Program to Display the multiplication Table?"
      ]
    },
    {
      "cell_type": "code",
      "source": [
        "num = int(input(\"Enter number :\"))\n",
        "\n",
        "for i in range(1, 11):\n",
        "    print(f\"{num} x {i} = {num * i}\")"
      ],
      "metadata": {
        "id": "KRlnRPqETMOx",
        "outputId": "2f207356-fdf6-4a85-d563-3f68d7a970ad",
        "colab": {
          "base_uri": "https://localhost:8080/"
        }
      },
      "id": "KRlnRPqETMOx",
      "execution_count": 8,
      "outputs": [
        {
          "output_type": "stream",
          "name": "stdout",
          "text": [
            "Enter number :7\n",
            "7 x 1 = 7\n",
            "7 x 2 = 14\n",
            "7 x 3 = 21\n",
            "7 x 4 = 28\n",
            "7 x 5 = 35\n",
            "7 x 6 = 42\n",
            "7 x 7 = 49\n",
            "7 x 8 = 56\n",
            "7 x 9 = 63\n",
            "7 x 10 = 70\n"
          ]
        }
      ]
    },
    {
      "cell_type": "markdown",
      "source": [],
      "metadata": {
        "id": "-DGZq5N22z65"
      },
      "id": "-DGZq5N22z65"
    },
    {
      "cell_type": "markdown",
      "id": "7de7eba5",
      "metadata": {
        "id": "7de7eba5"
      },
      "source": [
        "### 3. Write a Python Program to Print the Fibonacci sequence?\n"
      ]
    },
    {
      "cell_type": "code",
      "source": [
        "num = int(input(\"Enter number :\"))\n",
        "\n",
        "a = 0\n",
        "b = 1\n",
        "\n",
        "for i in range(num):\n",
        "    print(a, end=\" \")\n",
        "    a, b = b, a+b\n"
      ],
      "metadata": {
        "id": "ZX8WIK8IoRnQ",
        "outputId": "57218814-4e35-41ce-803f-60b918a3fe75",
        "colab": {
          "base_uri": "https://localhost:8080/"
        }
      },
      "id": "ZX8WIK8IoRnQ",
      "execution_count": 11,
      "outputs": [
        {
          "output_type": "stream",
          "name": "stdout",
          "text": [
            "Enter number :7\n",
            "0 1 1 2 3 5 8 "
          ]
        }
      ]
    },
    {
      "cell_type": "markdown",
      "id": "0446442e",
      "metadata": {
        "id": "0446442e"
      },
      "source": [
        "### 4. Write a Python Program to Check Armstrong Number?"
      ]
    },
    {
      "cell_type": "code",
      "source": [
        "num = int(input(\"Enter number : \"))\n",
        "\n",
        "digits = len(str(num))\n",
        "sum = 0\n",
        "\n",
        "temp = num\n",
        "while temp > 0:\n",
        "    digit = temp % 10\n",
        "    sum += digit ** digits\n",
        "    temp //= 10\n",
        "\n",
        "if num == sum:\n",
        "    print(\"The number is an Armstrong number.\")\n",
        "else:\n",
        "    print(\"The number is not an Armstrong number.\")\n"
      ],
      "metadata": {
        "id": "DmDjQN0woy0b",
        "outputId": "7574dff2-52d8-458b-eb7a-588aab15cb60",
        "colab": {
          "base_uri": "https://localhost:8080/"
        }
      },
      "id": "DmDjQN0woy0b",
      "execution_count": 14,
      "outputs": [
        {
          "output_type": "stream",
          "name": "stdout",
          "text": [
            "Enter number : 407\n",
            "The number is an Armstrong number.\n"
          ]
        }
      ]
    },
    {
      "cell_type": "markdown",
      "id": "a6f9adfe",
      "metadata": {
        "id": "a6f9adfe"
      },
      "source": [
        "### 5. Write a Python Program to Find Armstrong Number in an Interval?"
      ]
    },
    {
      "cell_type": "code",
      "source": [
        "s = int(input(\"Enter the start : \"))\n",
        "e = int(input(\"Enter the end : \"))  \n",
        "  \n",
        "for num in range(s, e+1):\n",
        "    digits = len(str(num))  \n",
        "    sum = 0\n",
        "    temp = num\n",
        "    while temp > 0:\n",
        "      digit = temp % 10\n",
        "      sum += digit ** digits\n",
        "      temp //= 10\n",
        "\n",
        "    if num == sum:\n",
        "        print(num)"
      ],
      "metadata": {
        "id": "yxKuHfmCqDuH",
        "outputId": "360e5ada-29b5-4f21-b20b-40c7ff69fc2c",
        "colab": {
          "base_uri": "https://localhost:8080/"
        }
      },
      "id": "yxKuHfmCqDuH",
      "execution_count": 15,
      "outputs": [
        {
          "output_type": "stream",
          "name": "stdout",
          "text": [
            "Enter the start : 10\n",
            "Enter the end : 200\n",
            "153\n"
          ]
        }
      ]
    },
    {
      "cell_type": "markdown",
      "source": [],
      "metadata": {
        "id": "qbmbp0_822o1"
      },
      "id": "qbmbp0_822o1"
    },
    {
      "cell_type": "markdown",
      "id": "157cad60",
      "metadata": {
        "id": "157cad60"
      },
      "source": [
        "### 6. Write a Python Program to Find the Sum of Natural Numbers?"
      ]
    },
    {
      "cell_type": "code",
      "source": [
        "num = int(input(\"Enter number : \"))\n",
        "sum = 0\n",
        "\n",
        "for i in range (1,num+1) :\n",
        "   sum += i\n",
        "\n",
        "print(sum)"
      ],
      "metadata": {
        "id": "zba4mhwoq3y-",
        "outputId": "1034953b-4af4-42b9-d0c5-96d66f82b5d8",
        "colab": {
          "base_uri": "https://localhost:8080/"
        }
      },
      "id": "zba4mhwoq3y-",
      "execution_count": 19,
      "outputs": [
        {
          "output_type": "stream",
          "name": "stdout",
          "text": [
            "Enter number : 5\n",
            "15\n"
          ]
        }
      ]
    }
  ],
  "metadata": {
    "kernelspec": {
      "display_name": "Python 3 (ipykernel)",
      "language": "python",
      "name": "python3"
    },
    "language_info": {
      "codemirror_mode": {
        "name": "ipython",
        "version": 3
      },
      "file_extension": ".py",
      "mimetype": "text/x-python",
      "name": "python",
      "nbconvert_exporter": "python",
      "pygments_lexer": "ipython3",
      "version": "3.9.12"
    },
    "colab": {
      "provenance": []
    }
  },
  "nbformat": 4,
  "nbformat_minor": 5
}