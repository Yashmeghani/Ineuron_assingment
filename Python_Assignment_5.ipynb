{
  "cells": [
    {
      "cell_type": "markdown",
      "id": "4ac9602a",
      "metadata": {
        "id": "4ac9602a"
      },
      "source": [
        "## Python Basic Programming Assignment - 5\n",
        "--------------\n"
      ]
    },
    {
      "cell_type": "markdown",
      "id": "fdaeee06",
      "metadata": {
        "id": "fdaeee06"
      },
      "source": [
        "### 1. Write a Python Program to Find LCM?"
      ]
    },
    {
      "cell_type": "code",
      "source": [
        "num1 = int(input(\"Enter number 1: \"))\n",
        "num2 = int(input(\"Enter number 2: \"))\n",
        "\n",
        "def lcm(a, b):\n",
        "   if a > b:\n",
        "       larger = a\n",
        "   else:\n",
        "       larger = b\n",
        "\n",
        "   while(True):\n",
        "       if((larger % a == 0) and (larger % b == 0)):\n",
        "           lcm = larger\n",
        "           break\n",
        "       larger += 1\n",
        "\n",
        "   return lcm\n",
        "\n",
        "\n",
        "print(lcm(num1, num2))"
      ],
      "metadata": {
        "id": "9oo7nihRhmy4",
        "outputId": "24d29cf8-6f24-42c6-ed9e-55e40ff8b475",
        "colab": {
          "base_uri": "https://localhost:8080/"
        }
      },
      "id": "9oo7nihRhmy4",
      "execution_count": 3,
      "outputs": [
        {
          "output_type": "stream",
          "name": "stdout",
          "text": [
            "Enter number 1: 5\n",
            "Enter number 2: 10\n",
            "10\n"
          ]
        }
      ]
    },
    {
      "cell_type": "markdown",
      "id": "2f459cdf",
      "metadata": {
        "id": "2f459cdf"
      },
      "source": [
        "### 2. Write a Python Program to Find HCF?"
      ]
    },
    {
      "cell_type": "code",
      "source": [
        "num1 = int(input(\"Enter number 1: \"))\n",
        "num2 = int(input(\"Enter number 2: \"))\n",
        "\n",
        "def hcf(a, b):\n",
        "\n",
        "    if a > b:\n",
        "        smaller = b\n",
        "    else:\n",
        "        smaller = a\n",
        "    for i in range(1, smaller+1):\n",
        "        if((a % i == 0) and (b % i == 0)):\n",
        "            hcf = i \n",
        "    return hcf\n",
        "\n",
        "print(hcf(num1, num2))"
      ],
      "metadata": {
        "id": "pc7VBuMMjIfK",
        "outputId": "b0e44f67-4939-4f2d-8592-2ed9c11dadad",
        "colab": {
          "base_uri": "https://localhost:8080/"
        }
      },
      "id": "pc7VBuMMjIfK",
      "execution_count": 4,
      "outputs": [
        {
          "output_type": "stream",
          "name": "stdout",
          "text": [
            "Enter number 1: 5\n",
            "Enter number 2: 10\n",
            "5\n"
          ]
        }
      ]
    },
    {
      "cell_type": "markdown",
      "id": "d2c29370",
      "metadata": {
        "id": "d2c29370"
      },
      "source": [
        "### 3. Write a Python Program to Convert Decimal to Binary, Octal and Hexadecimal?"
      ]
    },
    {
      "cell_type": "code",
      "source": [
        "d = 20\n",
        "b = format(d, \"b\")\n",
        "o = format(d, \"o\")\n",
        "h = format(d, \"x\")\n",
        "print(b)\n",
        "print(o)\n",
        "print(h)"
      ],
      "metadata": {
        "id": "27eqUv1dj4ac",
        "outputId": "7d55d803-649e-4a89-a1af-f6b714f136f6",
        "colab": {
          "base_uri": "https://localhost:8080/"
        }
      },
      "id": "27eqUv1dj4ac",
      "execution_count": 16,
      "outputs": [
        {
          "output_type": "stream",
          "name": "stdout",
          "text": [
            "10100\n",
            "24\n",
            "14\n"
          ]
        }
      ]
    },
    {
      "cell_type": "markdown",
      "id": "2a16c5fd",
      "metadata": {
        "id": "2a16c5fd"
      },
      "source": [
        "### 4. Write a Python Program To Find ASCII value of a character?"
      ]
    },
    {
      "cell_type": "code",
      "source": [
        "c = 'A'\n",
        "ascii_v = ord(c)\n",
        "print(ascii_v)"
      ],
      "metadata": {
        "id": "VexecW_Albgl",
        "outputId": "e4b3e55b-3673-454c-8cc8-3e26e1baddda",
        "colab": {
          "base_uri": "https://localhost:8080/"
        }
      },
      "id": "VexecW_Albgl",
      "execution_count": 20,
      "outputs": [
        {
          "output_type": "stream",
          "name": "stdout",
          "text": [
            "65\n"
          ]
        }
      ]
    },
    {
      "cell_type": "markdown",
      "id": "226778a0",
      "metadata": {
        "id": "226778a0"
      },
      "source": [
        "### 5. Write a Python Program to Make a Simple Calculator with 4 basic mathematical operations?"
      ]
    },
    {
      "cell_type": "code",
      "source": [
        "num1 = float(input(\"Enter num1: \"))\n",
        "num2 = float(input(\"Enter num2: \"))\n",
        "operator = input(\"Enter operator : \")\n",
        "\n",
        "if operator == '+':\n",
        "   res = num1 + num2\n",
        "elif operator == '-':\n",
        "   res = num1 - num2\n",
        "elif operator == '*':\n",
        "   res = num1 * num2\n",
        "elif operator == '/':\n",
        "   res = num1 / num2\n",
        "else:\n",
        "   print(\"Invalid operator\")\n",
        "\n",
        "print(res)\n"
      ],
      "metadata": {
        "id": "0Y8NgEAvmYyY",
        "outputId": "f091b0bb-3048-4a42-cade-f2420a979afa",
        "colab": {
          "base_uri": "https://localhost:8080/"
        }
      },
      "id": "0Y8NgEAvmYyY",
      "execution_count": 24,
      "outputs": [
        {
          "output_type": "stream",
          "name": "stdout",
          "text": [
            "Enter num1: 10\n",
            "Enter num2: 5\n",
            "Enter operator : /\n",
            "2.0\n"
          ]
        }
      ]
    }
  ],
  "metadata": {
    "kernelspec": {
      "display_name": "Python 3 (ipykernel)",
      "language": "python",
      "name": "python3"
    },
    "language_info": {
      "codemirror_mode": {
        "name": "ipython",
        "version": 3
      },
      "file_extension": ".py",
      "mimetype": "text/x-python",
      "name": "python",
      "nbconvert_exporter": "python",
      "pygments_lexer": "ipython3",
      "version": "3.9.12"
    },
    "colab": {
      "provenance": []
    }
  },
  "nbformat": 4,
  "nbformat_minor": 5
}