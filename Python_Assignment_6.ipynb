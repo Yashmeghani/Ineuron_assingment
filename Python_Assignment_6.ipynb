{
  "cells": [
    {
      "cell_type": "markdown",
      "id": "84a41a9f",
      "metadata": {
        "id": "84a41a9f"
      },
      "source": [
        "# Programming Basic Assignment 6"
      ]
    },
    {
      "cell_type": "markdown",
      "id": "a4b40558",
      "metadata": {
        "id": "a4b40558"
      },
      "source": [
        "### 1. Write a Python Program to Display Fibonacci Sequence Using Recursion?"
      ]
    },
    {
      "cell_type": "code",
      "source": [
        "def fibo(n):\n",
        "  if (n <= 1):\n",
        "    return n\n",
        "  else : \n",
        "    return (fibo(n-1) + fibo (n-2))\n",
        "\n",
        "n = int(input(\"Enter no of terms:\"))\n",
        "for i in range(n):\n",
        "    print(fibo(i))"
      ],
      "metadata": {
        "id": "JglC_XemdclT",
        "outputId": "ab3952a6-39e5-478d-d1fa-1137cf84e714",
        "colab": {
          "base_uri": "https://localhost:8080/"
        }
      },
      "id": "JglC_XemdclT",
      "execution_count": 8,
      "outputs": [
        {
          "output_type": "stream",
          "name": "stdout",
          "text": [
            "Enter no of terms:6\n",
            "0\n",
            "1\n",
            "1\n",
            "2\n",
            "3\n",
            "5\n"
          ]
        }
      ]
    },
    {
      "cell_type": "markdown",
      "id": "d7a57f60",
      "metadata": {
        "id": "d7a57f60"
      },
      "source": [
        "### 2. Write a Python Program to Find Factorial of Number Using Recursion?"
      ]
    },
    {
      "cell_type": "code",
      "source": [
        "def fact(n):\n",
        "  if n == 0:\n",
        "    return 1\n",
        "  else:\n",
        "    return n * fact(n-1)\n",
        "\n",
        "n = int(input(\"Enter number:\"))\n",
        "\n",
        "fact(n)    \n"
      ],
      "metadata": {
        "id": "WGBD0uKBLUSj",
        "outputId": "01999d94-c29b-49a0-d94a-b7ce149f2574",
        "colab": {
          "base_uri": "https://localhost:8080/"
        }
      },
      "id": "WGBD0uKBLUSj",
      "execution_count": 2,
      "outputs": [
        {
          "name": "stdout",
          "output_type": "stream",
          "text": [
            "Enter number:5\n"
          ]
        },
        {
          "output_type": "execute_result",
          "data": {
            "text/plain": [
              "120"
            ]
          },
          "metadata": {},
          "execution_count": 2
        }
      ]
    },
    {
      "cell_type": "markdown",
      "id": "0357b86f",
      "metadata": {
        "id": "0357b86f"
      },
      "source": [
        "### 3. Write a Python Program to calculate your Body Mass Index?"
      ]
    },
    {
      "cell_type": "code",
      "source": [
        "wt = float(input(\"Enter weight in kg: \"))\n",
        "ht = float(input(\"Enter height in meters: \"))\n",
        "\n",
        "def bmi(wt, ht):\n",
        "  bmi = wt / (ht ** 2)\n",
        "  return bmi\n",
        "\n",
        "bmi = bmi(wt, ht)\n",
        "\n",
        "print(\"BMI is:\", bmi)\n",
        "\n"
      ],
      "metadata": {
        "id": "Rykr4RRDMUwb",
        "outputId": "a1043ba3-81f4-4fb4-db50-3368d55c7a19",
        "colab": {
          "base_uri": "https://localhost:8080/"
        }
      },
      "id": "Rykr4RRDMUwb",
      "execution_count": 3,
      "outputs": [
        {
          "output_type": "stream",
          "name": "stdout",
          "text": [
            "Enter weight in kg: 75\n",
            "Enter height in meters: 1.74\n",
            "BMI is: 24.772096710265558\n"
          ]
        }
      ]
    },
    {
      "cell_type": "markdown",
      "id": "96d344a4",
      "metadata": {
        "id": "96d344a4"
      },
      "source": [
        "### 4. Write a Python Program to calculate the natural logarithm of any number?"
      ]
    },
    {
      "cell_type": "code",
      "source": [
        "import math\n",
        "\n",
        "n = int(input(\"Enter number:\"))\n",
        "y = math.log(n)\n",
        "\n",
        "print(y) \n"
      ],
      "metadata": {
        "id": "pJTGcmjqNRt0",
        "outputId": "699ba376-99d4-4a4a-97b5-bdd57683f537",
        "colab": {
          "base_uri": "https://localhost:8080/"
        }
      },
      "id": "pJTGcmjqNRt0",
      "execution_count": 3,
      "outputs": [
        {
          "output_type": "stream",
          "name": "stdout",
          "text": [
            "Enter number:50\n",
            "3.912023005428146\n"
          ]
        }
      ]
    },
    {
      "cell_type": "markdown",
      "id": "11c0d92c",
      "metadata": {
        "id": "11c0d92c"
      },
      "source": [
        "\n",
        "### 5. Write a Python Program for cube sum of first n natural numbers?\n"
      ]
    },
    {
      "cell_type": "code",
      "source": [
        "def cube_sum(n):\n",
        "  sum = 0\n",
        "  for i in range(1, n+1):\n",
        "    sum += i**3\n",
        "  return sum\n",
        "\n",
        "n = int(input(\"Enter number: \"))\n",
        "result = cube_sum(n)\n",
        "print(result)\n"
      ],
      "metadata": {
        "id": "3-wmBJUTTsj1",
        "outputId": "539b6e00-d48f-482e-ca1e-6b12a57945bf",
        "colab": {
          "base_uri": "https://localhost:8080/"
        }
      },
      "id": "3-wmBJUTTsj1",
      "execution_count": 7,
      "outputs": [
        {
          "output_type": "stream",
          "name": "stdout",
          "text": [
            "Enter number: 3\n",
            "36\n"
          ]
        }
      ]
    }
  ],
  "metadata": {
    "kernelspec": {
      "display_name": "Python 3 (ipykernel)",
      "language": "python",
      "name": "python3"
    },
    "language_info": {
      "codemirror_mode": {
        "name": "ipython",
        "version": 3
      },
      "file_extension": ".py",
      "mimetype": "text/x-python",
      "name": "python",
      "nbconvert_exporter": "python",
      "pygments_lexer": "ipython3",
      "version": "3.9.12"
    },
    "colab": {
      "provenance": []
    }
  },
  "nbformat": 4,
  "nbformat_minor": 5
}