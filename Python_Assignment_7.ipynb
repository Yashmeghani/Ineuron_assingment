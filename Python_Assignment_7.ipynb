{
  "cells": [
    {
      "cell_type": "markdown",
      "id": "35297a20",
      "metadata": {
        "id": "35297a20"
      },
      "source": [
        "## Programming Basic Assignment 7"
      ]
    },
    {
      "cell_type": "markdown",
      "id": "27349114",
      "metadata": {
        "id": "27349114"
      },
      "source": [
        "### 1. Write a Python Program to find sum of array?"
      ]
    },
    {
      "cell_type": "code",
      "source": [
        "def sum_array(arr):\n",
        "  sum = 0\n",
        "  for i in arr:\n",
        "    sum += i\n",
        "  return sum\n",
        "\n",
        "arr = [1, 2, 3, 4, 5]\n",
        "res = sum_array(arr)\n",
        "print(res)\n"
      ],
      "metadata": {
        "id": "cHg3ce2jVnB_",
        "outputId": "6db94ae8-ac95-4748-f86f-b0abc2dce7fb",
        "colab": {
          "base_uri": "https://localhost:8080/"
        }
      },
      "id": "cHg3ce2jVnB_",
      "execution_count": 6,
      "outputs": [
        {
          "output_type": "stream",
          "name": "stdout",
          "text": [
            "15\n"
          ]
        }
      ]
    },
    {
      "cell_type": "markdown",
      "id": "171a980d",
      "metadata": {
        "id": "171a980d"
      },
      "source": [
        "### 2. Write a Python Program to find largest element in an array?\n"
      ]
    },
    {
      "cell_type": "code",
      "source": [
        "def largest(arr):\n",
        "  largest = arr[0]\n",
        "  for i in arr:\n",
        "    if i > largest:\n",
        "      largest = i\n",
        "  return largest\n",
        "\n",
        "arr = [3, 7, 1, 9, 5]\n",
        "largest = largest(arr)\n",
        "print(largest)\n",
        "\n"
      ],
      "metadata": {
        "id": "qSwRp5cHWElx",
        "outputId": "23321b70-ff13-43b1-85b1-f2a68ef8d5f8",
        "colab": {
          "base_uri": "https://localhost:8080/"
        }
      },
      "id": "qSwRp5cHWElx",
      "execution_count": 7,
      "outputs": [
        {
          "output_type": "stream",
          "name": "stdout",
          "text": [
            "9\n"
          ]
        }
      ]
    },
    {
      "cell_type": "markdown",
      "id": "21613246",
      "metadata": {
        "id": "21613246"
      },
      "source": [
        "### 3. Write a Python Program for array rotation?"
      ]
    },
    {
      "cell_type": "code",
      "source": [
        "def rotate_array(arr, n):\n",
        "  return arr[n:] + arr[:n]\n",
        "\n",
        "arr = [1, 2, 3, 4, 5]\n",
        "n = int(input(\"Enter number of rotation :\"))\n",
        "res = rotate_array(arr, n)\n",
        "print(res)\n",
        "\n"
      ],
      "metadata": {
        "id": "gEqrqs4XWvkh",
        "outputId": "185f15c6-881e-48f5-c252-5dc43c44d16c",
        "colab": {
          "base_uri": "https://localhost:8080/"
        }
      },
      "id": "gEqrqs4XWvkh",
      "execution_count": 13,
      "outputs": [
        {
          "output_type": "stream",
          "name": "stdout",
          "text": [
            "Enter number of rotation :2\n",
            "[3, 4, 5, 1, 2]\n"
          ]
        }
      ]
    },
    {
      "cell_type": "markdown",
      "id": "3e52d939",
      "metadata": {
        "id": "3e52d939"
      },
      "source": [
        "### 4. Write a Python Program to Split the array and add the first part to the end?"
      ]
    },
    {
      "cell_type": "code",
      "source": [
        "def split_and_add(arr, n):\n",
        "  return arr[n:] + arr[:n]\n",
        "\n",
        "arr = [1, 2, 3, 4, 5]\n",
        "n = int(input(\"Enter number of rotation :\"))\n",
        "res = split_and_add(arr, n)\n",
        "print(res)\n"
      ],
      "metadata": {
        "id": "I78PgVLBXY3t",
        "outputId": "1638706d-53f6-47e1-f9ed-8a3b33cc5e7a",
        "colab": {
          "base_uri": "https://localhost:8080/"
        }
      },
      "id": "I78PgVLBXY3t",
      "execution_count": 11,
      "outputs": [
        {
          "output_type": "stream",
          "name": "stdout",
          "text": [
            "Enter number of rotation :1\n",
            "[2, 3, 4, 5, 1]\n"
          ]
        }
      ]
    },
    {
      "cell_type": "markdown",
      "id": "aa375779",
      "metadata": {
        "id": "aa375779"
      },
      "source": [
        "### 5. Write a Python Program to check if given array is Monotonic?"
      ]
    },
    {
      "cell_type": "code",
      "source": [
        "def monotonic(A):\n",
        " \n",
        "    return (all(A[i] <= A[i + 1] for i in range(len(A) - 1)) or\n",
        "            all(A[i] >= A[i + 1] for i in range(len(A) - 1)))\n",
        " \n",
        " \n",
        "\n",
        "arr = [1,2,3,4]\n",
        " \n",
        "print(monotonic(arr))"
      ],
      "metadata": {
        "id": "ZSYzwoqFYwn1",
        "outputId": "1dfe7a9d-f96f-47db-8cbf-e52f4c4e41f2",
        "colab": {
          "base_uri": "https://localhost:8080/"
        }
      },
      "id": "ZSYzwoqFYwn1",
      "execution_count": 15,
      "outputs": [
        {
          "output_type": "stream",
          "name": "stdout",
          "text": [
            "True\n"
          ]
        }
      ]
    }
  ],
  "metadata": {
    "kernelspec": {
      "display_name": "Python 3 (ipykernel)",
      "language": "python",
      "name": "python3"
    },
    "language_info": {
      "codemirror_mode": {
        "name": "ipython",
        "version": 3
      },
      "file_extension": ".py",
      "mimetype": "text/x-python",
      "name": "python",
      "nbconvert_exporter": "python",
      "pygments_lexer": "ipython3",
      "version": "3.9.12"
    },
    "colab": {
      "provenance": []
    }
  },
  "nbformat": 4,
  "nbformat_minor": 5
}