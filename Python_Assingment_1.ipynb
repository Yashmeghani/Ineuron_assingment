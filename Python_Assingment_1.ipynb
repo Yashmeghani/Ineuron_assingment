{
  "nbformat": 4,
  "nbformat_minor": 0,
  "metadata": {
    "colab": {
      "provenance": []
    },
    "kernelspec": {
      "name": "python3",
      "display_name": "Python 3"
    },
    "language_info": {
      "name": "python"
    }
  },
  "cells": [
    {
      "cell_type": "markdown",
      "source": [
        "1. Write a Python program to print \"Hello Python\"?"
      ],
      "metadata": {
        "id": "ffI7qLTvb7Gp"
      }
    },
    {
      "cell_type": "code",
      "source": [
        "print(\"Hello Python\")"
      ],
      "metadata": {
        "colab": {
          "base_uri": "https://localhost:8080/"
        },
        "id": "Jijmn4QDb-8h",
        "outputId": "aa0ce9bf-438f-4298-c59d-6d4a1119d779"
      },
      "execution_count": 1,
      "outputs": [
        {
          "output_type": "stream",
          "name": "stdout",
          "text": [
            "Hello Python\n"
          ]
        }
      ]
    },
    {
      "cell_type": "markdown",
      "source": [
        "2. Write a Python program to do arithmetical operations addition and division.?\n"
      ],
      "metadata": {
        "id": "dNrI9KGDcK1O"
      }
    },
    {
      "cell_type": "code",
      "source": [
        "#declare variable\n",
        "a = 20\n",
        "b = 10\n",
        "\n",
        "#assign arithmetic operators and operands\n",
        "c = a + b\n",
        "d = a / b\n",
        "\n",
        "\n",
        "print(c)\n",
        "print(d)"
      ],
      "metadata": {
        "id": "PLmZqe8oWizA",
        "outputId": "9019c9da-05af-41e2-d990-ce5050bc0d89",
        "colab": {
          "base_uri": "https://localhost:8080/"
        }
      },
      "execution_count": 2,
      "outputs": [
        {
          "output_type": "stream",
          "name": "stdout",
          "text": [
            "30\n",
            "2.0\n"
          ]
        }
      ]
    },
    {
      "cell_type": "markdown",
      "source": [
        "\n",
        "3. Write a Python program to find the area of a triangle?"
      ],
      "metadata": {
        "id": "IXiCpXAZcY3W"
      }
    },
    {
      "cell_type": "code",
      "source": [
        "#declare variable\n",
        "b = 10\n",
        "h = 12\n",
        "\n",
        "#formula for area of triangle\n",
        "area = (b * h)/2\n",
        "\n",
        "print(area)"
      ],
      "metadata": {
        "id": "VxDP20AAXDDM",
        "outputId": "beb3d072-0b36-47e4-9740-382ddbbd054b",
        "colab": {
          "base_uri": "https://localhost:8080/"
        }
      },
      "execution_count": 3,
      "outputs": [
        {
          "output_type": "stream",
          "name": "stdout",
          "text": [
            "60.0\n"
          ]
        }
      ]
    },
    {
      "cell_type": "markdown",
      "source": [
        "4. Write a Python program to swap two variables?"
      ],
      "metadata": {
        "id": "ZtxQw9QVcg3a"
      }
    },
    {
      "cell_type": "code",
      "source": [
        "#declare variable\n",
        "a = 10\n",
        "b = 5\n",
        "temp = 0 \n",
        "\n",
        "#swapping using 3rd varaible\n",
        "temp = a\n",
        "a = b\n",
        "b = temp\n",
        "\n",
        "print(a)\n",
        "print(b)"
      ],
      "metadata": {
        "id": "YDyFNTDpXr_A",
        "outputId": "171e3591-48fb-4e63-b9d0-e105ff187682",
        "colab": {
          "base_uri": "https://localhost:8080/"
        }
      },
      "execution_count": 8,
      "outputs": [
        {
          "output_type": "stream",
          "name": "stdout",
          "text": [
            "5\n",
            "10\n"
          ]
        }
      ]
    },
    {
      "cell_type": "code",
      "source": [
        "#declare variable\n",
        "a = 10\n",
        "b = 20\n",
        "\n",
        "#Without 3rd variable\n",
        "a = a + b\n",
        "b = a - b\n",
        "a = a - b\n",
        "\n",
        "print(a)\n",
        "print(b)"
      ],
      "metadata": {
        "colab": {
          "base_uri": "https://localhost:8080/"
        },
        "id": "iPtv5h2ycsRt",
        "outputId": "95cbe179-0da1-4fa0-9e8b-547b03a2c8a3"
      },
      "execution_count": 7,
      "outputs": [
        {
          "output_type": "stream",
          "name": "stdout",
          "text": [
            "20\n",
            "10\n"
          ]
        }
      ]
    },
    {
      "cell_type": "markdown",
      "source": [
        "5. Write a Python program to generate a random number?"
      ],
      "metadata": {
        "id": "tzprOFmdcwkA"
      }
    },
    {
      "cell_type": "code",
      "source": [
        "import random\n",
        "\n",
        "#Random module has function randint to generate random values between given range\n",
        "x = random.randint(1, 10)\n",
        "\n",
        "print(x)"
      ],
      "metadata": {
        "colab": {
          "base_uri": "https://localhost:8080/"
        },
        "id": "tHxUjrQ3cxzy",
        "outputId": "0ddfc281-181d-424a-e6ef-d14d8894c7b9"
      },
      "execution_count": 6,
      "outputs": [
        {
          "output_type": "stream",
          "name": "stdout",
          "text": [
            "6\n"
          ]
        }
      ]
    }
  ]
}